{
 "cells": [
  {
   "cell_type": "code",
   "execution_count": 1,
   "metadata": {
    "collapsed": true
   },
   "outputs": [],
   "source": [
    "import pandas as pd\n",
    "import numpy as np\n",
    "import matplotlib.pyplot as plt\n",
    "%matplotlib inline"
   ]
  },
  {
   "cell_type": "code",
   "execution_count": 2,
   "metadata": {
    "collapsed": true
   },
   "outputs": [],
   "source": [
    "import pymorphy2\n",
    "from nltk.tokenize import RegexpTokenizer\n",
    "\n",
    "morph = pymorphy2.MorphAnalyzer()\n",
    "tokenizer = RegexpTokenizer('\\w+')\n",
    "\n",
    "def normalize(s):\n",
    "    return ' '.join(map(lambda w: morph.parse(w)[0].normal_form, tokenizer.tokenize(s)))\n",
    "\n",
    "def remove_minor_pos(s):\n",
    "    return ' '.join(filter(lambda w: morph.parse(w)[0].tag.POS not in ['PREP', 'CONJ', 'PRCL', 'PRCL'], tokenizer.tokenize(s)))"
   ]
  },
  {
   "cell_type": "code",
   "execution_count": 47,
   "metadata": {
    "collapsed": false
   },
   "outputs": [
    {
     "data": {
      "text/html": [
       "<div>\n",
       "<table border=\"1\" class=\"dataframe\">\n",
       "  <thead>\n",
       "    <tr style=\"text-align: right;\">\n",
       "      <th></th>\n",
       "      <th>tag</th>\n",
       "      <th>header</th>\n",
       "      <th>question</th>\n",
       "    </tr>\n",
       "  </thead>\n",
       "  <tbody>\n",
       "    <tr>\n",
       "      <th>0</th>\n",
       "      <td>доверенность для налоговой от ООО</td>\n",
       "      <td>Как зарегистрировать ООО если два из трёх учре...</td>\n",
       "      <td>\\n                \\nЗдравствуйте, объясните по...</td>\n",
       "    </tr>\n",
       "    <tr>\n",
       "      <th>1</th>\n",
       "      <td>доверенность для налоговой от ООО</td>\n",
       "      <td>Как правильно оформить доверенность?</td>\n",
       "      <td>\\n                \\nДобрый день. Генеральный д...</td>\n",
       "    </tr>\n",
       "    <tr>\n",
       "      <th>2</th>\n",
       "      <td>доверенность для налоговой от ООО</td>\n",
       "      <td>Как представлять интересы учередителя не раскр...</td>\n",
       "      <td>\\n                \\nНесет ли учредитель уголов...</td>\n",
       "    </tr>\n",
       "    <tr>\n",
       "      <th>3</th>\n",
       "      <td>доверенность для налоговой от ООО</td>\n",
       "      <td>Как избежать штрафа</td>\n",
       "      <td>\\n                \\n\\r\\n\\n\\nДобрый день!\\r\\n\\n...</td>\n",
       "    </tr>\n",
       "    <tr>\n",
       "      <th>4</th>\n",
       "      <td>доверенность для налоговой от ООО</td>\n",
       "      <td>Смена директора с проблемами</td>\n",
       "      <td>\\n                \\nЗдравствуйте. Сложилась та...</td>\n",
       "    </tr>\n",
       "  </tbody>\n",
       "</table>\n",
       "</div>"
      ],
      "text/plain": [
       "                                 tag  \\\n",
       "0  доверенность для налоговой от ООО   \n",
       "1  доверенность для налоговой от ООО   \n",
       "2  доверенность для налоговой от ООО   \n",
       "3  доверенность для налоговой от ООО   \n",
       "4  доверенность для налоговой от ООО   \n",
       "\n",
       "                                              header  \\\n",
       "0  Как зарегистрировать ООО если два из трёх учре...   \n",
       "1               Как правильно оформить доверенность?   \n",
       "2  Как представлять интересы учередителя не раскр...   \n",
       "3                                Как избежать штрафа   \n",
       "4                       Смена директора с проблемами   \n",
       "\n",
       "                                            question  \n",
       "0  \\n                \\nЗдравствуйте, объясните по...  \n",
       "1  \\n                \\nДобрый день. Генеральный д...  \n",
       "2  \\n                \\nНесет ли учредитель уголов...  \n",
       "3  \\n                \\n\\r\\n\\n\\nДобрый день!\\r\\n\\n...  \n",
       "4  \\n                \\nЗдравствуйте. Сложилась та...  "
      ]
     },
     "execution_count": 47,
     "metadata": {},
     "output_type": "execute_result"
    }
   ],
   "source": [
    "pravoved = pd.read_csv('../data/pravoved.csv', sep='\\t', encoding='utf-8')\n",
    "pravoved.head()"
   ]
  },
  {
   "cell_type": "code",
   "execution_count": 48,
   "metadata": {
    "collapsed": false
   },
   "outputs": [
    {
     "data": {
      "text/plain": [
       "count     228359\n",
       "unique      2748\n",
       "top        кража\n",
       "freq         711\n",
       "Name: tag, dtype: object"
      ]
     },
     "execution_count": 48,
     "metadata": {},
     "output_type": "execute_result"
    }
   ],
   "source": [
    "pravoved.tag.describe()"
   ]
  },
  {
   "cell_type": "code",
   "execution_count": 49,
   "metadata": {
    "collapsed": false
   },
   "outputs": [
    {
     "data": {
      "text/plain": [
       "кража                                               711\n",
       "невыплата заработной платы                          670\n",
       "не платят зарплату                                  641\n",
       "налог с продажи квартиры                            624\n",
       "банковское дело                                     602\n",
       "мошенничество в интернете                           573\n",
       "развод при наличии несовершеннолетних детей         567\n",
       "исковое заявление в суд                             542\n",
       "выплаты алиментов                                   525\n",
       "увольнение                                          516\n",
       "продажа квартиры                                    503\n",
       "вступление в наследство                             492\n",
       "образование                                         464\n",
       "административные дела                               463\n",
       "уголовное дело                                      458\n",
       "возвращение долгов                                  456\n",
       "ФМС                                                 454\n",
       "задолженность по алиментам                          430\n",
       "приватизация жилья                                  423\n",
       "трудовые споры                                      412\n",
       "регистрация ООО                                     408\n",
       "исковое заявление                                   407\n",
       "документы для регистрации ООО                       401\n",
       "как продать долю в квартире                         400\n",
       "квартирный вопрос                                   397\n",
       "мошенничество в сфере кредитования                  397\n",
       "лишение отцовства                                   395\n",
       "пособие по уходу за ребенком                        394\n",
       "расторжение брака в судебном порядке                387\n",
       "исполнительный лист                                 375\n",
       "                                                   ... \n",
       "ходатайство с места работы                           10\n",
       "брачные аферисты                                     10\n",
       "проверка школы Роспотребнадзором                     10\n",
       "потеря товарного вида                                 9\n",
       "возмещение расходов конкурсному управляющему          9\n",
       "альтернативная подсудность                            9\n",
       "водный налог                                          9\n",
       "договор аренды спецтехники                            9\n",
       "наркотест                                             9\n",
       "обманутые вкладчики                                   9\n",
       "продление разрешения на строительство                 9\n",
       "отказ ребенка от отца                                 9\n",
       "незаконная охота                                      9\n",
       "покупка диплома                                       8\n",
       "налоговая проверка при смене юридического адреса      8\n",
       "лицензирование ТСЖ                                    8\n",
       "юридическое сопровождение сделки                      7\n",
       "нецелевое использование денежных средств              7\n",
       "не защитил диплом                                     6\n",
       "банкротство малого предприятия                        5\n",
       "пропала женщина                                       5\n",
       "бесконтактное дтп                                     4\n",
       "лишение прав за тонировку                             4\n",
       "отказ от УЭК                                          4\n",
       "ювенальная юстиция                                    3\n",
       "оскорбления сотрудником полиции                       2\n",
       "продажа арестованного автомобиля                      2\n",
       "мист моторс акция                                     2\n",
       "зеркальная тонировка                                  1\n",
       "разрешение на перезахоронение                         1\n",
       "Name: tag, dtype: int64"
      ]
     },
     "execution_count": 49,
     "metadata": {},
     "output_type": "execute_result"
    }
   ],
   "source": [
    "pravoved.tag.value_counts()"
   ]
  },
  {
   "cell_type": "markdown",
   "metadata": {},
   "source": [
    "Распределение частоты встречаемости тегов"
   ]
  },
  {
   "cell_type": "code",
   "execution_count": 50,
   "metadata": {
    "collapsed": false
   },
   "outputs": [
    {
     "data": {
      "text/plain": [
       "<matplotlib.axes._subplots.AxesSubplot at 0x7f134cd91290>"
      ]
     },
     "execution_count": 50,
     "metadata": {},
     "output_type": "execute_result"
    },
    {
     "data": {
      "image/png": "[encoded data removed]",
      "text/plain": [
       "<matplotlib.figure.Figure at 0x7f1347e380d0>"
      ]
     },
     "metadata": {},
     "output_type": "display_data"
    }
   ],
   "source": [
    "pravoved.tag.value_counts().hist(bins=40)"
   ]
  },
  {
   "cell_type": "code",
   "execution_count": 51,
   "metadata": {
    "collapsed": true
   },
   "outputs": [],
   "source": [
    "pravoved['text'] = pravoved.header + ' ' + pravoved.question\n",
    "pravoved.drop(['header', 'question'], axis=1, inplace=True)"
   ]
  },
  {
   "cell_type": "markdown",
   "metadata": {},
   "source": [
    "---"
   ]
  },
  {
   "cell_type": "code",
   "execution_count": 52,
   "metadata": {
    "collapsed": false
   },
   "outputs": [
    {
     "data": {
      "text/html": [
       "<div>\n",
       "<table border=\"1\" class=\"dataframe\">\n",
       "  <thead>\n",
       "    <tr style=\"text-align: right;\">\n",
       "      <th></th>\n",
       "      <th>tag</th>\n",
       "      <th>header</th>\n",
       "      <th>question</th>\n",
       "    </tr>\n",
       "  </thead>\n",
       "  <tbody>\n",
       "    <tr>\n",
       "      <th>0</th>\n",
       "      <td>перевод нежилого фонда в жилой</td>\n",
       "      <td>перевод нежилого фонда в жилой</td>\n",
       "      <td>\\nПодскажите алгоритм моих действий, чтобы пе...</td>\n",
       "    </tr>\n",
       "    <tr>\n",
       "      <th>1</th>\n",
       "      <td>перевод помещения из жилого в нежилое</td>\n",
       "      <td>перевод помещения из жилого в нежилое</td>\n",
       "      <td>\\nРешили открыть мини-пекарню в частном жилом...</td>\n",
       "    </tr>\n",
       "    <tr>\n",
       "      <th>2</th>\n",
       "      <td>перевод в нежилое</td>\n",
       "      <td>Перевод в нежилое</td>\n",
       "      <td>\\nДобрый день! скажите пожалуйста, может ли р...</td>\n",
       "    </tr>\n",
       "    <tr>\n",
       "      <th>3</th>\n",
       "      <td>все</td>\n",
       "      <td>опасность покупки квартиры в заселенном доме с...</td>\n",
       "      <td>\\nхочу купить квартиру / заселенный дом - два...</td>\n",
       "    </tr>\n",
       "    <tr>\n",
       "      <th>4</th>\n",
       "      <td>аренда нежилого помещения</td>\n",
       "      <td>Могу ли я заключить договор на нежилое помещен...</td>\n",
       "      <td>\\nНужно ли регистрировать договор аренды в на...</td>\n",
       "    </tr>\n",
       "  </tbody>\n",
       "</table>\n",
       "</div>"
      ],
      "text/plain": [
       "                                     tag  \\\n",
       "0         перевод нежилого фонда в жилой   \n",
       "1  перевод помещения из жилого в нежилое   \n",
       "2                      перевод в нежилое   \n",
       "3                                    все   \n",
       "4              аренда нежилого помещения   \n",
       "\n",
       "                                              header  \\\n",
       "0                  перевод нежилого фонда в жилой      \n",
       "1           перевод помещения из жилого в нежилое      \n",
       "2                               Перевод в нежилое      \n",
       "3  опасность покупки квартиры в заселенном доме с...   \n",
       "4  Могу ли я заключить договор на нежилое помещен...   \n",
       "\n",
       "                                            question  \n",
       "0   \\nПодскажите алгоритм моих действий, чтобы пе...  \n",
       "1   \\nРешили открыть мини-пекарню в частном жилом...  \n",
       "2   \\nДобрый день! скажите пожалуйста, может ли р...  \n",
       "3   \\nхочу купить квартиру / заселенный дом - два...  \n",
       "4   \\nНужно ли регистрировать договор аренды в на...  "
      ]
     },
     "execution_count": 52,
     "metadata": {},
     "output_type": "execute_result"
    }
   ],
   "source": [
    "svem = pd.read_csv('../data/svem.csv', sep='\\t', encoding='utf-8')\n",
    "svem.head()"
   ]
  },
  {
   "cell_type": "code",
   "execution_count": 53,
   "metadata": {
    "collapsed": false
   },
   "outputs": [],
   "source": [
    "svem = svem[svem.tag != u'все']"
   ]
  },
  {
   "cell_type": "code",
   "execution_count": 54,
   "metadata": {
    "collapsed": false
   },
   "outputs": [
    {
     "data": {
      "text/plain": [
       "count       140603\n",
       "unique       15579\n",
       "top       алименты\n",
       "freq          4725\n",
       "Name: tag, dtype: object"
      ]
     },
     "execution_count": 54,
     "metadata": {},
     "output_type": "execute_result"
    }
   ],
   "source": [
    "svem.tag.describe()"
   ]
  },
  {
   "cell_type": "code",
   "execution_count": 55,
   "metadata": {
    "collapsed": false
   },
   "outputs": [
    {
     "data": {
      "text/plain": [
       "алименты                                                                                                4725\n",
       "наследство                                                                                              3553\n",
       "потребительский кредит                                                                                  2643\n",
       "развод                                                                                                  2381\n",
       "раздел имущества                                                                                        2124\n",
       "кредит                                                                                                  2013\n",
       "увольнение                                                                                              1696\n",
       "дтп                                                                                                     1321\n",
       "гражданство                                                                                             1237\n",
       "квартира                                                                                                1168\n",
       "прописка                                                                                                1109\n",
       "недвижимость                                                                                            1090\n",
       "возмещение ущерба                                                                                       1049\n",
       "суд                                                                                                     1003\n",
       "расписка                                                                                                 889\n",
       "лишение прав                                                                                             851\n",
       "завещание                                                                                                833\n",
       "автомобиль                                                                                               810\n",
       "возврат денег                                                                                            810\n",
       "права потребителя                                                                                        798\n",
       "штраф                                                                                                    785\n",
       "уголовное дело                                                                                           737\n",
       "пенсия                                                                                                   717\n",
       "ребёнок                                                                                                  715\n",
       "приватизация                                                                                             680\n",
       "договор                                                                                                  631\n",
       "защита прав потребителей                                                                                 630\n",
       "материнский капитал                                                                                      611\n",
       "отцовство                                                                                                599\n",
       "экспертиза                                                                                               593\n",
       "                                                                                                        ... \n",
       "могут                                                                                                      1\n",
       "прибавка пенсии в 2016 г                                                                                   1\n",
       "юриспруденция                                                                                              1\n",
       "с кем суд оставит ребёнка после развода                                                                    1\n",
       "частный садик.                                                                                             1\n",
       "прения                                                                                                     1\n",
       "пособничество                                                                                              1\n",
       "долг за электроэнергию перед снт                                                                           1\n",
       "востановление                                                                                              1\n",
       "ринопластика                                                                                               1\n",
       "признание без вести пропавшим                                                                              1\n",
       "стать на учет по беременности                                                                              1\n",
       "конфликт с сотрудниками полиции                                                                            1\n",
       "арест зарплатного счета без уведомления                                                                    1\n",
       "могу ля заключить договор с провайдером                                                                    1\n",
       "личная информация                                                                                          1\n",
       "денежный кредит                                                                                            1\n",
       "описка в документах                                                                                        1\n",
       "замена отеля                                                                                               1\n",
       "человек в розыске пол года можно оформчеловек в розыске пол года можно оформить дарение на его кварт       1\n",
       "норма рабочего времени                                                                                     1\n",
       "документы на дом                                                                                           1\n",
       "реестр кредиторов                                                                                          1\n",
       "доминириующее положение на товарном рынке                                                                  1\n",
       "как нерезиденту вести бизнес в россии                                                                      1\n",
       "как лишит родителей родительских прав                                                                      1\n",
       "ст.306                                                                                                     1\n",
       "запрет на регистрационные действия по автомобилю                                                           1\n",
       "не могу платить кредитты                                                                                   1\n",
       "права тсж                                                                                                  1\n",
       "Name: tag, dtype: int64"
      ]
     },
     "execution_count": 55,
     "metadata": {},
     "output_type": "execute_result"
    }
   ],
   "source": [
    "svem.tag.value_counts()"
   ]
  },
  {
   "cell_type": "code",
   "execution_count": 56,
   "metadata": {
    "collapsed": false
   },
   "outputs": [
    {
     "data": {
      "text/plain": [
       "<matplotlib.axes._subplots.AxesSubplot at 0x7f1349521a50>"
      ]
     },
     "execution_count": 56,
     "metadata": {},
     "output_type": "execute_result"
    },
    {
     "data": {
      "image/png": "[encoded data removed]",
      "text/plain": [
       "<matplotlib.figure.Figure at 0x7f1349521410>"
      ]
     },
     "metadata": {},
     "output_type": "display_data"
    }
   ],
   "source": [
    "svem.tag.value_counts().iloc[1000:].hist(bins=10)"
   ]
  },
  {
   "cell_type": "code",
   "execution_count": 57,
   "metadata": {
    "collapsed": true
   },
   "outputs": [],
   "source": [
    "svem['text'] = svem.header + ' ' + svem.question\n",
    "svem.drop(['header', 'question'], axis=1, inplace=True)"
   ]
  },
  {
   "cell_type": "code",
   "execution_count": 58,
   "metadata": {
    "collapsed": false
   },
   "outputs": [
    {
     "data": {
      "text/plain": [
       "14221"
      ]
     },
     "execution_count": 58,
     "metadata": {},
     "output_type": "execute_result"
    }
   ],
   "source": [
    "(svem.tag.value_counts() <= 9).sum()"
   ]
  },
  {
   "cell_type": "code",
   "execution_count": 59,
   "metadata": {
    "collapsed": false
   },
   "outputs": [
    {
     "name": "stdout",
     "output_type": "stream",
     "text": [
      "Число общих тегов: 991\n"
     ]
    }
   ],
   "source": [
    "print u'Число общих тегов: {0}'.format(len(set(pravoved.tag.unique()) & set(svem.tag.unique())))"
   ]
  },
  {
   "cell_type": "code",
   "execution_count": 60,
   "metadata": {
    "collapsed": true
   },
   "outputs": [],
   "source": [
    "mutual_tags = set(pravoved.tag.unique()) & set(svem.tag.unique())"
   ]
  },
  {
   "cell_type": "code",
   "execution_count": 61,
   "metadata": {
    "collapsed": false
   },
   "outputs": [
    {
     "data": {
      "text/plain": [
       "(228201, 2)"
      ]
     },
     "execution_count": 61,
     "metadata": {},
     "output_type": "execute_result"
    }
   ],
   "source": [
    "pravoved_pop_tags = pravoved.tag.value_counts()[pravoved.tag.value_counts() >= 10].index.values\n",
    "pravoved_cutted = pravoved[pravoved.tag.apply(lambda t: t in pravoved_pop_tags or t in mutual_tags)]\n",
    "pravoved_cutted.shape"
   ]
  },
  {
   "cell_type": "code",
   "execution_count": 62,
   "metadata": {
    "collapsed": false
   },
   "outputs": [
    {
     "data": {
      "text/plain": [
       "(33491, 2)"
      ]
     },
     "execution_count": 62,
     "metadata": {},
     "output_type": "execute_result"
    }
   ],
   "source": [
    "svem_pop_tags = svem.tag.value_counts()[svem.tag.value_counts() >= 10].index.values\n",
    "svem_cutted = svem[svem.tag.apply(lambda t: t in mutual_tags)]\n",
    "svem_cutted.shape"
   ]
  },
  {
   "cell_type": "code",
   "execution_count": 63,
   "metadata": {
    "collapsed": false
   },
   "outputs": [
    {
     "name": "stdout",
     "output_type": "stream",
     "text": [
      "Число общих тегов: 991\n"
     ]
    }
   ],
   "source": [
    "# Check\n",
    "print u'Число общих тегов: {0}'.format(len(set(pravoved_cutted.tag.unique()) & set(svem_cutted.tag.unique())))"
   ]
  },
  {
   "cell_type": "code",
   "execution_count": 64,
   "metadata": {
    "collapsed": true
   },
   "outputs": [],
   "source": [
    "joint = pravoved_cutted.append(svem_cutted)\n",
    "joint.index = range(joint.shape[0])"
   ]
  },
  {
   "cell_type": "code",
   "execution_count": 65,
   "metadata": {
    "collapsed": false
   },
   "outputs": [
    {
     "data": {
      "text/plain": [
       "count         261692\n",
       "unique          2722\n",
       "top       увольнение\n",
       "freq            2212\n",
       "Name: tag, dtype: object"
      ]
     },
     "execution_count": 65,
     "metadata": {},
     "output_type": "execute_result"
    }
   ],
   "source": [
    "joint.tag.describe()"
   ]
  },
  {
   "cell_type": "code",
   "execution_count": 66,
   "metadata": {
    "collapsed": false
   },
   "outputs": [
    {
     "data": {
      "text/plain": [
       "count    2722.000000\n",
       "mean       96.139603\n",
       "std       109.831305\n",
       "min        10.000000\n",
       "25%        43.000000\n",
       "50%        67.000000\n",
       "75%       110.000000\n",
       "max      2212.000000\n",
       "Name: tag, dtype: float64"
      ]
     },
     "execution_count": 66,
     "metadata": {},
     "output_type": "execute_result"
    }
   ],
   "source": [
    "joint.tag.value_counts().describe()"
   ]
  },
  {
   "cell_type": "code",
   "execution_count": 67,
   "metadata": {
    "collapsed": false
   },
   "outputs": [
    {
     "data": {
      "text/plain": [
       "<matplotlib.axes._subplots.AxesSubplot at 0x7f134d0d7c10>"
      ]
     },
     "execution_count": 67,
     "metadata": {},
     "output_type": "execute_result"
    },
    {
     "data": {
      "image/png": "[encoded data removed]",
      "text/plain": [
       "<matplotlib.figure.Figure at 0x7f13432cfe10>"
      ]
     },
     "metadata": {},
     "output_type": "display_data"
    }
   ],
   "source": [
    "joint.tag.value_counts().iloc[200:].hist(bins=30)"
   ]
  },
  {
   "cell_type": "markdown",
   "metadata": {},
   "source": [
    "Эксель для Арсения"
   ]
  },
  {
   "cell_type": "code",
   "execution_count": 24,
   "metadata": {
    "collapsed": false
   },
   "outputs": [],
   "source": [
    "pravoved_tag_counts = pravoved_cutted.tag.value_counts()\n",
    "svem_tag_counts = svem_cutted.tag.value_counts()\n",
    "\n",
    "def get_pravoved_count(t):\n",
    "    if t in pravoved_tag_counts:\n",
    "        return pravoved_tag_counts[t]\n",
    "    else:\n",
    "        return 0\n",
    "\n",
    "def get_svem_count(t):\n",
    "    if t in svem_tag_counts:\n",
    "        return svem_tag_counts[t]\n",
    "    else:\n",
    "        return 0\n",
    "\n",
    "def get_origin(t):\n",
    "    if t in pravoved_pop_tags and t in svem_pop_tags:\n",
    "        return 'pravoved & svem'\n",
    "    elif t in pravoved_pop_tags:\n",
    "        return 'pravoved'\n",
    "    else:\n",
    "        return 'svem'\n",
    "\n",
    "tags_list = pd.DataFrame(joint.tag.value_counts())\n",
    "tags_list['count_pravoved'] = map(get_pravoved_count, tags_list.index.values)\n",
    "tags_list['count_pravoved'] = pd.Series(tags_list.index).apply(get_pravoved_count).values\n",
    "tags_list['count_svem'] = pd.Series(tags_list.index).apply(get_svem_count).values\n",
    "tags_list['origin'] = pd.Series(tags_list.index).apply(get_origin).values\n",
    "tags_list['mutual'] = pd.Series(tags_list.index).apply(lambda t: t in mutual_tags).values\n",
    "tags_list.rename(columns = {'tag': 'count'}, inplace=True)\n",
    "\n",
    "tags_list.to_excel('../data/joint_tags.xlsx', encoding='utf-8', index=True, header=True)"
   ]
  },
  {
   "cell_type": "markdown",
   "metadata": {},
   "source": [
    "---"
   ]
  },
  {
   "cell_type": "code",
   "execution_count": 71,
   "metadata": {
    "collapsed": false
   },
   "outputs": [],
   "source": [
    "joint.to_csv('../data/joint_raw.csv', sep='\\t', encoding='utf-8', index=False)"
   ]
  },
  {
   "cell_type": "code",
   "execution_count": 72,
   "metadata": {
    "collapsed": false
   },
   "outputs": [
    {
     "name": "stdout",
     "output_type": "stream",
     "text": [
      "CPU times: user 2min 31s, sys: 536 ms, total: 2min 31s\n",
      "Wall time: 2min 30s\n",
      "CPU times: user 1min 51s, sys: 404 ms, total: 1min 51s\n",
      "Wall time: 1min 50s\n"
     ]
    }
   ],
   "source": [
    "joint_norm = joint.copy()\n",
    "%time joint_norm.loc[:, 'tag'] = joint_norm.tag.apply(remove_minor_pos)\n",
    "%time joint_norm.loc[:, 'tag'] = joint_norm.tag.apply(normalize)\n",
    "joint_norm.to_csv('../data/joint_norm_tag.csv', sep='\\t', encoding='utf-8', index=False)"
   ]
  },
  {
   "cell_type": "code",
   "execution_count": 73,
   "metadata": {
    "collapsed": false
   },
   "outputs": [
    {
     "name": "stdout",
     "output_type": "stream",
     "text": [
      "CPU times: user 1h 16min 38s, sys: 16 s, total: 1h 16min 54s\n",
      "Wall time: 1h 16min 23s\n",
      "CPU times: user 41min 14s, sys: 9.06 s, total: 41min 23s\n",
      "Wall time: 41min 6s\n"
     ]
    }
   ],
   "source": [
    "%time joint_norm.loc[:, 'text'] = joint_norm.text.apply(remove_minor_pos)\n",
    "%time joint_norm.loc[:, 'text'] = joint_norm.text.apply(normalize)\n",
    "joint_norm.to_csv('../data/joint_norm.csv', sep='\\t', encoding='utf-8', index=False)"
   ]
  },
  {
   "cell_type": "code",
   "execution_count": null,
   "metadata": {
    "collapsed": true
   },
   "outputs": [],
   "source": [
    ""
   ]
  }
 ],
 "metadata": {
  "kernelspec": {
   "display_name": "Python 2",
   "language": "python",
   "name": "python2"
  },
  "language_info": {
   "codemirror_mode": {
    "name": "ipython",
    "version": 2.0
   },
   "file_extension": ".py",
   "mimetype": "text/x-python",
   "name": "python",
   "nbconvert_exporter": "python",
   "pygments_lexer": "ipython2",
   "version": "2.7.12"
  }
 },
 "nbformat": 4,
 "nbformat_minor": 0
}