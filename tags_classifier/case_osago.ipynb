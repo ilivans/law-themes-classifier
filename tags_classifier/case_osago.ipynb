{
 "cells": [
  {
   "cell_type": "code",
   "execution_count": 1,
   "metadata": {
    "collapsed": true
   },
   "outputs": [],
   "source": [
    "import pandas as pd\n",
    "import numpy as np\n",
    "import matplotlib.pyplot as plt\n",
    "%matplotlib inline\n",
    "\n",
    "import cPickle"
   ]
  },
  {
   "cell_type": "code",
   "execution_count": 2,
   "metadata": {
    "collapsed": false
   },
   "outputs": [
    {
     "data": {
      "text/html": [
       "<div>\n",
       "<table border=\"1\" class=\"dataframe\">\n",
       "  <thead>\n",
       "    <tr style=\"text-align: right;\">\n",
       "      <th></th>\n",
       "      <th>tag</th>\n",
       "      <th>parent</th>\n",
       "      <th>support</th>\n",
       "      <th>answer</th>\n",
       "    </tr>\n",
       "  </thead>\n",
       "  <tbody>\n",
       "    <tr>\n",
       "      <th>0</th>\n",
       "      <td>Документы в СК</td>\n",
       "      <td>ОСАГО</td>\n",
       "      <td>документы в страховую компанию по осаго; какие...</td>\n",
       "      <td>Так, вы хотели бы утонить список документов дл...</td>\n",
       "    </tr>\n",
       "    <tr>\n",
       "      <th>1</th>\n",
       "      <td>причинении вреда имуществу потерпевшего</td>\n",
       "      <td>Документы в СК</td>\n",
       "      <td>Список документов по ОСАГО при причинении вред...</td>\n",
       "      <td>NaN</td>\n",
       "    </tr>\n",
       "    <tr>\n",
       "      <th>2</th>\n",
       "      <td>причинен ущерб здоровью</td>\n",
       "      <td>Документы в СК</td>\n",
       "      <td>возмещение ущерба здоровью осаго; Осаго здоров...</td>\n",
       "      <td>NaN</td>\n",
       "    </tr>\n",
       "    <tr>\n",
       "      <th>3</th>\n",
       "      <td>утрата профессиональной трудоспособности</td>\n",
       "      <td>Документы в СК</td>\n",
       "      <td>утрата трудоспособности при дтп ; потеря трудо...</td>\n",
       "      <td>NaN</td>\n",
       "    </tr>\n",
       "    <tr>\n",
       "      <th>4</th>\n",
       "      <td>причинения вреда жизни потерпевшего</td>\n",
       "      <td>Документы в СК</td>\n",
       "      <td>осаго смерть потерпевшего; выплаты осаго в слу...</td>\n",
       "      <td>NaN</td>\n",
       "    </tr>\n",
       "  </tbody>\n",
       "</table>\n",
       "</div>"
      ],
      "text/plain": [
       "                                        tag          parent  \\\n",
       "0                            Документы в СК           ОСАГО   \n",
       "1   причинении вреда имуществу потерпевшего  Документы в СК   \n",
       "2                   причинен ущерб здоровью  Документы в СК   \n",
       "3  утрата профессиональной трудоспособности  Документы в СК   \n",
       "4       причинения вреда жизни потерпевшего  Документы в СК   \n",
       "\n",
       "                                             support  \\\n",
       "0  документы в страховую компанию по осаго; какие...   \n",
       "1  Список документов по ОСАГО при причинении вред...   \n",
       "2  возмещение ущерба здоровью осаго; Осаго здоров...   \n",
       "3  утрата трудоспособности при дтп ; потеря трудо...   \n",
       "4  осаго смерть потерпевшего; выплаты осаго в слу...   \n",
       "\n",
       "                                              answer  \n",
       "0  Так, вы хотели бы утонить список документов дл...  \n",
       "1                                                NaN  \n",
       "2                                                NaN  \n",
       "3                                                NaN  \n",
       "4                                                NaN  "
      ]
     },
     "execution_count": 2,
     "metadata": {},
     "output_type": "execute_result"
    }
   ],
   "source": [
    "tags_table = pd.read_excel('../data/osago_tags_hierarchy.xlsx', header=None, \n",
    "                           names=['tag', 'parent', 'support', 'answer'])\n",
    "tags_table.head()"
   ]
  },
  {
   "cell_type": "code",
   "execution_count": 3,
   "metadata": {
    "collapsed": false
   },
   "outputs": [],
   "source": [
    "# Leaf indicator\n",
    "tags_table['leaf'] = tags_table.tag.apply(lambda t: t not in tags_table.parent.unique())\n",
    "# Adding answers\n",
    "tags_table.loc[np.logical_and(tags_table.leaf == False, tags_table.answer.apply(lambda a: a is np.nan)), \n",
    "               'answer'] = u'Уточните ваш вопрос'"
   ]
  },
  {
   "cell_type": "code",
   "execution_count": 4,
   "metadata": {
    "collapsed": false
   },
   "outputs": [],
   "source": [
    "tag_names = tags_table.tag.values"
   ]
  },
  {
   "cell_type": "markdown",
   "metadata": {},
   "source": [
    "---"
   ]
  },
  {
   "cell_type": "code",
   "execution_count": 5,
   "metadata": {
    "collapsed": true
   },
   "outputs": [],
   "source": [
    "import pymorphy2\n",
    "from nltk.tokenize import RegexpTokenizer\n",
    "\n",
    "morph = pymorphy2.MorphAnalyzer()\n",
    "tokenizer = RegexpTokenizer('\\w+')\n",
    "\n",
    "def normalize(s):\n",
    "    return ' '.join(map(lambda w: morph.parse(w)[0].normal_form, tokenizer.tokenize(s)))\n",
    "\n",
    "def get_normalized_tokens(s):\n",
    "    return map(lambda w: morph.parse(w)[0].normal_form, tokenizer.tokenize(s))\n",
    "\n",
    "def remove_minor_pos(s):\n",
    "    return ' '.join(filter(lambda w: morph.parse(w)[0].tag.POS not in ['PREP', 'CONJ', 'INTJ'], tokenizer.tokenize(s)))\n",
    "\n",
    "def normalize_remove(s):\n",
    "    return normalize(remove_minor_pos(s))"
   ]
  },
  {
   "cell_type": "code",
   "execution_count": 37,
   "metadata": {
    "collapsed": true
   },
   "outputs": [],
   "source": [
    "def count_part_entries2(words, text, part_size, pair_weight):\n",
    "    count = 0\n",
    "    words = words.split(' ')\n",
    "    words = map(lambda w: w[:part_size], words)\n",
    "    text = ' '.join(map(lambda w: w[:part_size], text.split(' ')))\n",
    "    for i in range(len(words)-1):\n",
    "        if words[i] in text:\n",
    "            count += 1\n",
    "            pair = ' '.join((words[i], words[i+1]))\n",
    "            if pair in text:\n",
    "                count += pair_weight\n",
    "    if words[-1] in text:\n",
    "        count += 1\n",
    "    return count"
   ]
  },
  {
   "cell_type": "code",
   "execution_count": 38,
   "metadata": {
    "collapsed": false
   },
   "outputs": [],
   "source": [
    "def get_top_tags(text_normed, tags, num_tags, part_size, pair_weight=1):\n",
    "    similarities = []\n",
    "    for tag in tags:\n",
    "        support = tags_table[tags_table.norm == tag].support.values[0]\n",
    "        variants = [tag]\n",
    "        if support is not np.nan:\n",
    "            variants += support.split(';')\n",
    "        scores = map(lambda var:\\\n",
    "            count_part_entries2(var, text_normed, part_size, pair_weight) / (len(var.split(' ')) + 0.1), variants)\n",
    "        similarities.append(np.max(scores))\n",
    "    result = []\n",
    "    for _ in range(num_tags):\n",
    "        idx = np.argmax(similarities)\n",
    "        result.append((tags[idx], similarities[idx]))\n",
    "        similarities[idx] = 0.\n",
    "    return result"
   ]
  },
  {
   "cell_type": "code",
   "execution_count": 39,
   "metadata": {
    "collapsed": false
   },
   "outputs": [],
   "source": [
    "tags_table.loc[:, 'support'] = tags_table.support.apply(\\\n",
    "        lambda sup: ';'.join(map(normalize_remove, sup.split(';'))) if sup is not np.nan else sup)"
   ]
  },
  {
   "cell_type": "code",
   "execution_count": 40,
   "metadata": {
    "collapsed": false
   },
   "outputs": [],
   "source": [
    "tags_normed = map(normalize_remove, tag_names)"
   ]
  },
  {
   "cell_type": "code",
   "execution_count": 41,
   "metadata": {
    "collapsed": false
   },
   "outputs": [],
   "source": [
    "tags_table['norm'] = tags_normed"
   ]
  },
  {
   "cell_type": "code",
   "execution_count": 42,
   "metadata": {
    "collapsed": true
   },
   "outputs": [],
   "source": [
    "cPickle.dump(tags_table, open('../data/tags_table.p', 'wb'))"
   ]
  },
  {
   "cell_type": "code",
   "execution_count": 43,
   "metadata": {
    "collapsed": false
   },
   "outputs": [
    {
     "data": {
      "text/html": [
       "<div>\n",
       "<table border=\"1\" class=\"dataframe\">\n",
       "  <thead>\n",
       "    <tr style=\"text-align: right;\">\n",
       "      <th></th>\n",
       "      <th>tag</th>\n",
       "      <th>parent</th>\n",
       "      <th>support</th>\n",
       "      <th>answer</th>\n",
       "      <th>leaf</th>\n",
       "      <th>norm</th>\n",
       "    </tr>\n",
       "  </thead>\n",
       "  <tbody>\n",
       "    <tr>\n",
       "      <th>0</th>\n",
       "      <td>Документы в СК</td>\n",
       "      <td>ОСАГО</td>\n",
       "      <td>документ страховой компания осаго;какой докуме...</td>\n",
       "      <td>Так, вы хотели бы утонить список документов дл...</td>\n",
       "      <td>False</td>\n",
       "      <td>документ ск</td>\n",
       "    </tr>\n",
       "    <tr>\n",
       "      <th>5</th>\n",
       "      <td>выплаты по ОСАГО</td>\n",
       "      <td>ОСАГО</td>\n",
       "      <td>выплата осаго дтп;выплата осаго;возмещение вре...</td>\n",
       "      <td>Так, у вас возник вопрос связанный с выплатами...</td>\n",
       "      <td>False</td>\n",
       "      <td>выплата осаго</td>\n",
       "    </tr>\n",
       "    <tr>\n",
       "      <th>15</th>\n",
       "      <td>договор страхования ОСАГО</td>\n",
       "      <td>ОСАГО</td>\n",
       "      <td>страховой договор осаго;страховой полис осаго</td>\n",
       "      <td>Уточните ваш вопрос</td>\n",
       "      <td>False</td>\n",
       "      <td>договор страхование осаго</td>\n",
       "    </tr>\n",
       "    <tr>\n",
       "      <th>18</th>\n",
       "      <td>ответственность по ОСАГО</td>\n",
       "      <td>ОСАГО</td>\n",
       "      <td>штраф осаго;ответственность осаго</td>\n",
       "      <td>Уточните ваш вопрос</td>\n",
       "      <td>False</td>\n",
       "      <td>ответственность осаго</td>\n",
       "    </tr>\n",
       "    <tr>\n",
       "      <th>24</th>\n",
       "      <td>ремонт по ОСАГО</td>\n",
       "      <td>ОСАГО</td>\n",
       "      <td>ремонт автомобиль осаго;стоимость ремонт осаго...</td>\n",
       "      <td>Уточните ваш вопрос</td>\n",
       "      <td>False</td>\n",
       "      <td>ремонт осаго</td>\n",
       "    </tr>\n",
       "    <tr>\n",
       "      <th>27</th>\n",
       "      <td>Полис</td>\n",
       "      <td>ОСАГО</td>\n",
       "      <td>полис осаго</td>\n",
       "      <td>Так, у вас возникли проблемы с полисом ОСАГО. ...</td>\n",
       "      <td>False</td>\n",
       "      <td>полис</td>\n",
       "    </tr>\n",
       "  </tbody>\n",
       "</table>\n",
       "</div>"
      ],
      "text/plain": [
       "                          tag parent  \\\n",
       "0              Документы в СК  ОСАГО   \n",
       "5            выплаты по ОСАГО  ОСАГО   \n",
       "15  договор страхования ОСАГО  ОСАГО   \n",
       "18   ответственность по ОСАГО  ОСАГО   \n",
       "24            ремонт по ОСАГО  ОСАГО   \n",
       "27                      Полис  ОСАГО   \n",
       "\n",
       "                                              support  \\\n",
       "0   документ страховой компания осаго;какой докуме...   \n",
       "5   выплата осаго дтп;выплата осаго;возмещение вре...   \n",
       "15      страховой договор осаго;страховой полис осаго   \n",
       "18                  штраф осаго;ответственность осаго   \n",
       "24  ремонт автомобиль осаго;стоимость ремонт осаго...   \n",
       "27                                        полис осаго   \n",
       "\n",
       "                                               answer   leaf  \\\n",
       "0   Так, вы хотели бы утонить список документов дл...  False   \n",
       "5   Так, у вас возник вопрос связанный с выплатами...  False   \n",
       "15                                Уточните ваш вопрос  False   \n",
       "18                                Уточните ваш вопрос  False   \n",
       "24                                Уточните ваш вопрос  False   \n",
       "27  Так, у вас возникли проблемы с полисом ОСАГО. ...  False   \n",
       "\n",
       "                         norm  \n",
       "0                 документ ск  \n",
       "5               выплата осаго  \n",
       "15  договор страхование осаго  \n",
       "18      ответственность осаго  \n",
       "24               ремонт осаго  \n",
       "27                      полис  "
      ]
     },
     "execution_count": 43,
     "metadata": {},
     "output_type": "execute_result"
    }
   ],
   "source": [
    "tags_table.ix[list(tags_table[tags_table.parent == u'ОСАГО'].index)]"
   ]
  },
  {
   "cell_type": "code",
   "execution_count": 44,
   "metadata": {
    "collapsed": false
   },
   "outputs": [],
   "source": [
    "sessions = dict()\n",
    "\n",
    "def predict_tag_for_request(tag_id, question_body, sender_id, session_new):\n",
    "    cur_tag = u'ОСАГО'\n",
    "    history = ''\n",
    "    if sender_id in sessions:\n",
    "        if not session_new:\n",
    "            cur_tag, history = sessions[sender_id]\n",
    "        else:\n",
    "            sessions[sender_id] = None\n",
    "\n",
    "    if tags_table[tags_table.tag == cur_tag].leaf.values[0]:\n",
    "        return tags_table[tags_table.tag == cur_tag].index.values[0], 404\n",
    "\n",
    "    tag_indices = []\n",
    "    parents = [cur_tag]\n",
    "    while parents:\n",
    "        p = parents.pop()\n",
    "        tag_indices += list(tags_table[tags_table.parent == p].index)\n",
    "        parents += list(tags_table[tags_table.parent == p].tag)\n",
    "    local_table = tags_table.ix[tag_indices]\n",
    "    tags_norm = local_table.norm.values\n",
    "\n",
    "    question_normed = normalize(remove_minor_pos(question_body))\n",
    "    history += ' ' + question_normed\n",
    "    top_tag_normed, similarity = get_top_tags(history, tags_norm, 1, 5)[0]\n",
    "    top_tag = local_table[tags_table.norm == top_tag_normed].tag.values[0]\n",
    "\n",
    "    sessions[sender_id] = (top_tag, history)\n",
    "\n",
    "    return tags_table[tags_table.tag == top_tag].index.values[0], similarity"
   ]
  },
  {
   "cell_type": "code",
   "execution_count": 45,
   "metadata": {
    "collapsed": false
   },
   "outputs": [
    {
     "name": "stdout",
     "output_type": "stream",
     "text": [
      "Отказ в выплате\n"
     ]
    },
    {
     "name": "stderr",
     "output_type": "stream",
     "text": [
      "/home/ilya/.virtualenvs/lawyer/lib/python2.7/site-packages/ipykernel/__main__.py:27: UserWarning: Boolean Series key will be reindexed to match DataFrame index.\n"
     ]
    }
   ],
   "source": [
    "idx, sim = predict_tag_for_request(0, u'Страховая не платит по ОСАГО, хочу судиться', 3, True)\n",
    "print tags_table.ix[idx].tag\n",
    "ans = tags_table.ix[idx].answer\n",
    "if ans is not np.nan:\n",
    "    print ans"
   ]
  },
  {
   "cell_type": "code",
   "execution_count": 46,
   "metadata": {
    "collapsed": false
   },
   "outputs": [
    {
     "name": "stdout",
     "output_type": "stream",
     "text": [
      "платить страховой компания осаго\n",
      "страховой не платить осаго хотеть судиться\n"
     ]
    },
    {
     "data": {
      "text/plain": [
       "0.7317073170731708"
      ]
     },
     "execution_count": 46,
     "metadata": {},
     "output_type": "execute_result"
    }
   ],
   "source": [
    "# var = normalize_remove(u'максимальный размер выплаты по осаго')\n",
    "var = normalize_remove(u'сколько платит страховая компания по осаго')\n",
    "# var = normalize_remove(u'страховая компания не платит')\n",
    "print var\n",
    "text = normalize_remove(u'Страховая не платит по ОСАГО, хочу судиться')\n",
    "print text\n",
    "count_part_entries2(var, text, 5, 2) / (len(var.split(' ')) + 0.1)"
   ]
  },
  {
   "cell_type": "code",
   "execution_count": 47,
   "metadata": {
    "collapsed": false
   },
   "outputs": [
    {
     "name": "stdout",
     "output_type": "stream",
     "text": [
      "выплаты по ОСАГО\n",
      "Так, у вас возник вопрос связанный с выплатами по ОСАГО. Опишите, пожалуйста, подробней в чем именно у Вас проблема с выплатами по ОСАГО?.\n"
     ]
    },
    {
     "name": "stderr",
     "output_type": "stream",
     "text": [
      "/home/ilya/.virtualenvs/lawyer/lib/python2.7/site-packages/ipykernel/__main__.py:27: UserWarning: Boolean Series key will be reindexed to match DataFrame index.\n"
     ]
    }
   ],
   "source": [
    "idx, sim = predict_tag_for_request(0, u'ОСАГО', 3, True)\n",
    "print tags_table.ix[idx].tag\n",
    "ans = tags_table.ix[idx].answer\n",
    "if ans is not np.nan:\n",
    "    print ans"
   ]
  },
  {
   "cell_type": "code",
   "execution_count": 17,
   "metadata": {
    "collapsed": false
   },
   "outputs": [
    {
     "name": "stdout",
     "output_type": "stream",
     "text": [
      "выплата осаго\n",
      "осаго\n"
     ]
    },
    {
     "data": {
      "text/plain": [
       "0.47619047619047616"
      ]
     },
     "execution_count": 17,
     "metadata": {},
     "output_type": "execute_result"
    }
   ],
   "source": [
    "var = normalize_remove(u'ОСАГО')\n",
    "var = normalize_remove(u'выплаты по осаго')\n",
    "print var\n",
    "text = normalize_remove(u'ОСАГО')\n",
    "print text\n",
    "count_part_entries2(var, text, 5, 2) / (len(var.split(' ')) + 0.1)"
   ]
  },
  {
   "cell_type": "code",
   "execution_count": 54,
   "metadata": {
    "collapsed": false
   },
   "outputs": [
    {
     "name": "stdout",
     "output_type": "stream",
     "text": [
      "договор страхование осаго\n",
      "регрессивный иск страховой осаго\n"
     ]
    },
    {
     "data": {
      "text/plain": [
       "0.8064516129032258"
      ]
     },
     "execution_count": 54,
     "metadata": {},
     "output_type": "execute_result"
    }
   ],
   "source": [
    "var = normalize_remove(u'регресс по ОСАГО')\n",
    "var = normalize_remove(u'договор страхования ОСАГО')\n",
    "print var\n",
    "text = normalize_remove(u'Регрессивный иск от страховой по ОСАГО')\n",
    "print text\n",
    "count_part_entries2(var, text, 5, 0.5) / (len(var.split(' ')) + 0.1)"
   ]
  },
  {
   "cell_type": "code",
   "execution_count": 26,
   "metadata": {
    "collapsed": false
   },
   "outputs": [
    {
     "name": "stdout",
     "output_type": "stream",
     "text": [
      "отсутствие полис осаго виновник дтп\n",
      "взыскание виновник дтп учёт взнос\n"
     ]
    },
    {
     "data": {
      "text/plain": [
       "0.7843137254901962"
      ]
     },
     "execution_count": 26,
     "metadata": {},
     "output_type": "execute_result"
    }
   ],
   "source": [
    "var = normalize_remove(u'Виновник ДТП без полиса ОСАГО')\n",
    "\n",
    "print var\n",
    "text = normalize_remove(u'Взыскание с виновника дтп без учета взноса')\n",
    "print text\n",
    "count_part_entries2(var, text, 5, 2) / (len(var.split(' ')) + 0.1)"
   ]
  }
 ],
 "metadata": {
  "kernelspec": {
   "display_name": "Python 2",
   "language": "python",
   "name": "python2"
  },
  "language_info": {
   "codemirror_mode": {
    "name": "ipython",
    "version": 2.0
   },
   "file_extension": ".py",
   "mimetype": "text/x-python",
   "name": "python",
   "nbconvert_exporter": "python",
   "pygments_lexer": "ipython2",
   "version": "2.7.12"
  }
 },
 "nbformat": 4,
 "nbformat_minor": 0
}